{
  "nbformat": 4,
  "nbformat_minor": 0,
  "metadata": {
    "colab": {
      "provenance": [],
      "gpuType": "T4",
      "authorship_tag": "ABX9TyOQwoEgHqhiJTD4fXIgMrtH",
      "include_colab_link": true
    },
    "kernelspec": {
      "name": "python3",
      "display_name": "Python 3"
    },
    "language_info": {
      "name": "python"
    },
    "accelerator": "GPU"
  },
  "cells": [
    {
      "cell_type": "markdown",
      "metadata": {
        "id": "view-in-github",
        "colab_type": "text"
      },
      "source": [
        "<a href=\"https://colab.research.google.com/github/fionabay/slob/blob/main/SVI_cudf.ipynb\" target=\"_parent\"><img src=\"https://colab.research.google.com/assets/colab-badge.svg\" alt=\"Open In Colab\"/></a>"
      ]
    },
    {
      "cell_type": "code",
      "execution_count": 1,
      "metadata": {
        "colab": {
          "base_uri": "https://localhost:8080/"
        },
        "id": "yCCtFrjDKPc1",
        "outputId": "2c8ef510-1979-481f-b563-90d7949dd5f4"
      },
      "outputs": [
        {
          "output_type": "stream",
          "name": "stdout",
          "text": [
            "Tue Aug  6 02:52:22 2024       \n",
            "+---------------------------------------------------------------------------------------+\n",
            "| NVIDIA-SMI 535.104.05             Driver Version: 535.104.05   CUDA Version: 12.2     |\n",
            "|-----------------------------------------+----------------------+----------------------+\n",
            "| GPU  Name                 Persistence-M | Bus-Id        Disp.A | Volatile Uncorr. ECC |\n",
            "| Fan  Temp   Perf          Pwr:Usage/Cap |         Memory-Usage | GPU-Util  Compute M. |\n",
            "|                                         |                      |               MIG M. |\n",
            "|=========================================+======================+======================|\n",
            "|   0  Tesla T4                       Off | 00000000:00:04.0 Off |                    0 |\n",
            "| N/A   38C    P8               9W /  70W |      0MiB / 15360MiB |      0%      Default |\n",
            "|                                         |                      |                  N/A |\n",
            "+-----------------------------------------+----------------------+----------------------+\n",
            "                                                                                         \n",
            "+---------------------------------------------------------------------------------------+\n",
            "| Processes:                                                                            |\n",
            "|  GPU   GI   CI        PID   Type   Process name                            GPU Memory |\n",
            "|        ID   ID                                                             Usage      |\n",
            "|=======================================================================================|\n",
            "|  No running processes found                                                           |\n",
            "+---------------------------------------------------------------------------------------+\n"
          ]
        }
      ],
      "source": [
        "!nvidia-smi"
      ]
    },
    {
      "cell_type": "code",
      "source": [
        "import cudf\n",
        "%load_ext cudf.pandas"
      ],
      "metadata": {
        "id": "dRhxLtjyKXyP"
      },
      "execution_count": 2,
      "outputs": []
    },
    {
      "cell_type": "markdown",
      "source": [
        "sample calibartion of implied volatility surface"
      ],
      "metadata": {
        "id": "J7dUQ1qEWk0m"
      }
    },
    {
      "cell_type": "code",
      "source": [
        "%%cudf.pandas.profile\n",
        "\n",
        "import numpy as np\n",
        "from scipy import optimize\n",
        "from matplotlib import pyplot as plt\n",
        "\n",
        "spot = 1.3444\n",
        "forward = 1.342782\n",
        "t = 30 / 365.0\n",
        "vols = np.array([9.420, 9.772, 9.237, 10.144, 9.196, 10.724, 9.265, 11.161, 9.390, 11.908, 9.751]) / 100\n",
        "strikes = np.array([1.34342148, 1.35800697, 1.32950654, 1.37006384, 1.31948358, 1.38700437, 1.30670715,1.39978993, 1.29765089, 1.42124726, 1.28287975])\n",
        "total_implied_variance = np.power(t * vols,2)\n",
        "\n",
        "def svinatural(k, param):\n",
        "  # The natural SVI parameterization\n",
        "    delta = param[0];\n",
        "    omega = param[1];\n",
        "    epsilon = param[2];\n",
        "    rho = param[3];\n",
        "    miu= param[4];\n",
        "\n",
        "    estimate = delta + 0.5*omega * (1+ epsilon* rho *(k -miu)+np.sqrt( (epsilon*(k-miu)+rho))**2 +(1-rho*rho))\n",
        "    return estimate\n",
        "\n",
        "def targetfunction(x,total_implied_variance):\n",
        "    value=0\n",
        "    for i in range(len(total_implied_variance)):\n",
        "        model_total_implied_variance = svinatural(np.log(strikes[i] / forward), x);\n",
        "        value =value+np.power(total_implied_variance[i]  - model_total_implied_variance,2);\n",
        "    return value**0.5\n",
        "\n",
        "bounds = [(-1000, 1000),(0, 1000),(0.1, 1000),(-0.9999, 0.9999),(-10000, 1)]\n",
        "x0=[0.1,0.2,1,0.0001,-99]\n",
        "result = optimize.minimize(targetfunction,x0=x0,args=(total_implied_variance),bounds=bounds)\n",
        "x=result.x\n",
        "print(x)\n"
      ],
      "metadata": {
        "colab": {
          "base_uri": "https://localhost:8080/",
          "height": 609
        },
        "id": "aAgXgK3ROXtM",
        "outputId": "9f6565c6-1aff-4a61-f78a-e529256ac557"
      },
      "execution_count": 3,
      "outputs": [
        {
          "output_type": "stream",
          "name": "stderr",
          "text": [
            "\n",
            "PYDEV DEBUGGER WARNING:\n",
            "sys.settrace() should not be used when the debugger is being used.\n",
            "This may cause the debugger to stop working correctly.\n",
            "If this is needed, please check: \n",
            "http://pydev.blogspot.com/2007/06/why-cant-pydev-debugger-work-with.html\n",
            "to see how to restore the debug tracing back correctly.\n",
            "Call Location:\n",
            "  File \"/usr/local/lib/python3.10/dist-packages/cudf/pandas/profiler.py\", line 97, in __enter__\n",
            "    sys.settrace(self._tracefunc)\n",
            "\n",
            "\n",
            "PYDEV DEBUGGER WARNING:\n",
            "sys.settrace() should not be used when the debugger is being used.\n",
            "This may cause the debugger to stop working correctly.\n",
            "If this is needed, please check: \n",
            "http://pydev.blogspot.com/2007/06/why-cant-pydev-debugger-work-with.html\n",
            "to see how to restore the debug tracing back correctly.\n",
            "Call Location:\n",
            "  File \"/usr/local/lib/python3.10/dist-packages/cudf/pandas/profiler.py\", line 116, in __exit__\n",
            "    sys.settrace(self._oldtrace)\n",
            "\n"
          ]
        },
        {
          "output_type": "stream",
          "name": "stdout",
          "text": [
            "[ 5.15830327e-05  2.48588708e-02  1.00002244e-01 -9.99897506e-01\n",
            " -9.89435351e+01]\n"
          ]
        },
        {
          "output_type": "display_data",
          "data": {
            "text/plain": [
              "\u001b[3m                                                                                              \u001b[0m\n",
              "\u001b[3m                                  Total time elapsed: 1.136 seconds                           \u001b[0m\n",
              "\u001b[3m                                0 GPU function calls in 0.000 seconds                         \u001b[0m\n",
              "\u001b[3m                                0 CPU function calls in 0.000 seconds                         \u001b[0m\n",
              "\u001b[3m                                                                                              \u001b[0m\n",
              "\u001b[3m                                                Stats                                         \u001b[0m\n",
              "\u001b[3m                                                                                              \u001b[0m\n",
              "┏━━━━━━━━━━┳━━━━━━━━━━━━┳━━━━━━━━━━━━━┳━━━━━━━━━━━━━┳━━━━━━━━━━━━┳━━━━━━━━━━━━━┳━━━━━━━━━━━━━┓\n",
              "┃\u001b[1m \u001b[0m\u001b[1mFunction\u001b[0m\u001b[1m \u001b[0m┃\u001b[1m \u001b[0m\u001b[1mGPU ncalls\u001b[0m\u001b[1m \u001b[0m┃\u001b[1m \u001b[0m\u001b[1mGPU cumtime\u001b[0m\u001b[1m \u001b[0m┃\u001b[1m \u001b[0m\u001b[1mGPU percall\u001b[0m\u001b[1m \u001b[0m┃\u001b[1m \u001b[0m\u001b[1mCPU ncalls\u001b[0m\u001b[1m \u001b[0m┃\u001b[1m \u001b[0m\u001b[1mCPU cumtime\u001b[0m\u001b[1m \u001b[0m┃\u001b[1m \u001b[0m\u001b[1mCPU percall\u001b[0m\u001b[1m \u001b[0m┃\n",
              "┡━━━━━━━━━━╇━━━━━━━━━━━━╇━━━━━━━━━━━━━╇━━━━━━━━━━━━━╇━━━━━━━━━━━━╇━━━━━━━━━━━━━╇━━━━━━━━━━━━━┩\n",
              "└──────────┴────────────┴─────────────┴─────────────┴────────────┴─────────────┴─────────────┘\n"
            ],
            "text/html": [
              "<pre style=\"white-space:pre;overflow-x:auto;line-height:normal;font-family:Menlo,'DejaVu Sans Mono',consolas,'Courier New',monospace\"><span style=\"font-style: italic\">                                                                                              </span>\n",
              "<span style=\"font-style: italic\">                                  Total time elapsed: 1.136 seconds                           </span>\n",
              "<span style=\"font-style: italic\">                                0 GPU function calls in 0.000 seconds                         </span>\n",
              "<span style=\"font-style: italic\">                                0 CPU function calls in 0.000 seconds                         </span>\n",
              "<span style=\"font-style: italic\">                                                                                              </span>\n",
              "<span style=\"font-style: italic\">                                                Stats                                         </span>\n",
              "<span style=\"font-style: italic\">                                                                                              </span>\n",
              "┏━━━━━━━━━━┳━━━━━━━━━━━━┳━━━━━━━━━━━━━┳━━━━━━━━━━━━━┳━━━━━━━━━━━━┳━━━━━━━━━━━━━┳━━━━━━━━━━━━━┓\n",
              "┃<span style=\"font-weight: bold\"> Function </span>┃<span style=\"font-weight: bold\"> GPU ncalls </span>┃<span style=\"font-weight: bold\"> GPU cumtime </span>┃<span style=\"font-weight: bold\"> GPU percall </span>┃<span style=\"font-weight: bold\"> CPU ncalls </span>┃<span style=\"font-weight: bold\"> CPU cumtime </span>┃<span style=\"font-weight: bold\"> CPU percall </span>┃\n",
              "┡━━━━━━━━━━╇━━━━━━━━━━━━╇━━━━━━━━━━━━━╇━━━━━━━━━━━━━╇━━━━━━━━━━━━╇━━━━━━━━━━━━━╇━━━━━━━━━━━━━┩\n",
              "└──────────┴────────────┴─────────────┴─────────────┴────────────┴─────────────┴─────────────┘\n",
              "</pre>\n"
            ]
          },
          "metadata": {}
        }
      ]
    },
    {
      "cell_type": "code",
      "source": [],
      "metadata": {
        "id": "1s9QJQ5vOuBz"
      },
      "execution_count": 3,
      "outputs": []
    }
  ]
}