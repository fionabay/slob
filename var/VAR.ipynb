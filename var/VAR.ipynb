{
 "cells": [
  {
   "cell_type": "markdown",
   "id": "5f43fab7-da88-42d2-84e2-33fce56eaf16",
   "metadata": {},
   "source": [
    "# VAR for options"
   ]
  },
  {
   "cell_type": "markdown",
   "id": "f774fff2-9cf2-46cf-8814-c2fab0b88f0b",
   "metadata": {},
   "source": [
    "### 1 Delta Approximation\n",
    "\n",
    "- For small movements in the underlying, the change of an option contract could be approximated by delta.\n",
    "- So if the change of the underlying is $ \\sigma * s *{\\sqrt {\\delta t}} $, the change of option value should be approximately:\n",
    "                            <b> $ \\sigma * s *{\\sqrt {\\delta t}} * delta $ </b>"
   ]
  },
  {
   "cell_type": "markdown",
   "id": "b384e1e6-960b-4aa7-8fea-70f14bb55cca",
   "metadata": {},
   "source": [
    "### 2 Delta Gamma Approximation\n",
    "\n",
    " - For better approximation of option price, second derivative, namely, gamma should be used.\n",
    " - Under geometric Brownian motion, we have\n",
    "                         <b> $ {\\delta S} = r * S *{\\delta t} + \\sigma * S * \\sqrt {\\delta t} * {\\delta W} $</b>\n",
    " - By Taylor expansion, the change of option value could be approximated by\n",
    "   $  {\\delta V } = \\frac {\\partial V}  {\\partial S} * {\\delta S} + 0.5 * \\frac {\\partial^2 V} {\\partial S^2} *({\\delta S}^2) + \\frac {\\partial V}  {\\partial t} * {\\delta t} + ... $\n",
    " - Plug ${\\delta S} $ by geometric Brownian motion (2nd bullet point), we could rewrite option value approximation as\n",
    "\n",
    "$ {\\delta V} = \\frac {\\partial V}  {\\partial S} * \\sigma * S * \\sqrt {\\delta t} * {\\delta W} +  \\frac {\\partial V}  {\\partial S} * r * S *{\\delta t}  +  0.5 * \\frac {\\partial^2 V} {\\partial S^2} * \\sigma ^2 * S^2  * {\\delta t} + \\frac {\\partial V}  {\\partial t} * {\\delta t} $\n",
    "\n",
    "Beyond first order approximation by Delta, Gamma introduce an non-linear effect to the randomness of option value."
   ]
  },
  {
   "cell_type": "markdown",
   "id": "6f3a5761-d47d-4a89-af15-95d06f808542",
   "metadata": {},
   "source": [
    "### 3 Monte-Carlo Simulation\n",
    "   Suppose there is return of underlying during different scenarios, Monte Carlo simulation could be run under different drift and volatility assumptions. Note not under risk - neutral assumptions. For each of these scenarios use some pricing methodology \n",
    "to calculate the value os option) and thus directl \r\n",
    "estimate its VaR."
   ]
  },
  {
   "cell_type": "code",
   "execution_count": null,
   "id": "06ff5f78-843f-420b-bb04-f457aa792119",
   "metadata": {},
   "outputs": [],
   "source": []
  }
 ],
 "metadata": {
  "kernelspec": {
   "display_name": "Python 3 (ipykernel)",
   "language": "python",
   "name": "python3"
  },
  "language_info": {
   "codemirror_mode": {
    "name": "ipython",
    "version": 3
   },
   "file_extension": ".py",
   "mimetype": "text/x-python",
   "name": "python",
   "nbconvert_exporter": "python",
   "pygments_lexer": "ipython3",
   "version": "3.12.4"
  }
 },
 "nbformat": 4,
 "nbformat_minor": 5
}
