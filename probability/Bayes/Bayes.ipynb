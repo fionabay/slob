{
 "cells": [
  {
   "cell_type": "markdown",
   "id": "d4fb0748-6f5b-4ec6-9a96-073bb5764d93",
   "metadata": {},
   "source": [
    "# Locomotive Problem\n",
    "\n",
    "<b> A railroad numbers its locomotives in order 1..N. One day you \n",
    "see a locomotive with the number 60. Estimate how many locomotives\r\n",
    "the railroad h. </b>\n",
    "7)"
   ]
  },
  {
   "cell_type": "markdown",
   "id": "afcb33c5-c592-4347-97cc-47f2307808a0",
   "metadata": {},
   "source": [
    "The above problem could be soved by the Baye's theorem framework as suggested by the author of Think Baye's. So assuming we have some priors about the number of trains. For simplicity, let us use uniform distribution as the likelihood probability given the number of trains N. We can then update our likelihood function given the observation of train numbered 60. The number of train would be simpliy expected number of trains under all priors. "
   ]
  },
  {
   "cell_type": "code",
   "execution_count": 1,
   "id": "90461859-c828-4e3d-8d3d-163289973630",
   "metadata": {},
   "outputs": [],
   "source": [
    "from Train import Train\n",
    "import pandas as pd"
   ]
  },
  {
   "cell_type": "markdown",
   "id": "dfbb67dd-ecd6-4e01-899e-5a4a39113a06",
   "metadata": {},
   "source": [
    "We assume a upper limit of number of trains, namely, 600. After oberserving train 60, we update our likelihood function. "
   ]
  },
  {
   "cell_type": "code",
   "execution_count": 2,
   "id": "ff54a3bf-9445-4516-bda9-a7656d0f8e7e",
   "metadata": {},
   "outputs": [],
   "source": [
    "suite = Train(hypo=60*10)\n",
    "suite.Update(60)"
   ]
  },
  {
   "cell_type": "markdown",
   "id": "9e460a79-71fe-4d0c-b58f-e69f1e563835",
   "metadata": {},
   "source": [
    "The updated likelihood function cut probability below 60 to 0 and then normalize the remaning probabilities."
   ]
  },
  {
   "cell_type": "code",
   "execution_count": 3,
   "id": "d3e1d599-d365-4d52-b586-ecd8df92d8f9",
   "metadata": {},
   "outputs": [
    {
     "data": {
      "text/html": [
       "<div>\n",
       "<style scoped>\n",
       "    .dataframe tbody tr th:only-of-type {\n",
       "        vertical-align: middle;\n",
       "    }\n",
       "\n",
       "    .dataframe tbody tr th {\n",
       "        vertical-align: top;\n",
       "    }\n",
       "\n",
       "    .dataframe thead th {\n",
       "        text-align: right;\n",
       "    }\n",
       "</style>\n",
       "<table border=\"1\" class=\"dataframe\">\n",
       "  <thead>\n",
       "    <tr style=\"text-align: right;\">\n",
       "      <th></th>\n",
       "      <th>probability</th>\n",
       "    </tr>\n",
       "  </thead>\n",
       "  <tbody>\n",
       "    <tr>\n",
       "      <th>596</th>\n",
       "      <td>0.000726</td>\n",
       "    </tr>\n",
       "    <tr>\n",
       "      <th>597</th>\n",
       "      <td>0.000725</td>\n",
       "    </tr>\n",
       "    <tr>\n",
       "      <th>598</th>\n",
       "      <td>0.000723</td>\n",
       "    </tr>\n",
       "    <tr>\n",
       "      <th>599</th>\n",
       "      <td>0.000722</td>\n",
       "    </tr>\n",
       "    <tr>\n",
       "      <th>600</th>\n",
       "      <td>0.000721</td>\n",
       "    </tr>\n",
       "  </tbody>\n",
       "</table>\n",
       "</div>"
      ],
      "text/plain": [
       "     probability\n",
       "596     0.000726\n",
       "597     0.000725\n",
       "598     0.000723\n",
       "599     0.000722\n",
       "600     0.000721"
      ]
     },
     "execution_count": 3,
     "metadata": {},
     "output_type": "execute_result"
    }
   ],
   "source": [
    "df = pd.DataFrame(data=suite.Values.values(),index=suite.Values.keys(),columns=['probability'])\n",
    "df.tail()"
   ]
  },
  {
   "cell_type": "markdown",
   "id": "8b0e18c0-4241-49b1-ade2-af3c4305c313",
   "metadata": {},
   "source": [
    "The expected number of train is the final answer."
   ]
  },
  {
   "cell_type": "code",
   "execution_count": 6,
   "id": "f512a487-9c1f-454c-824a-ba356ba71057",
   "metadata": {},
   "outputs": [
    {
     "name": "stdout",
     "output_type": "stream",
     "text": [
      "234\n"
     ]
    }
   ],
   "source": [
    "def BayesMean(suite):\n",
    "    total = 0\n",
    "    for hypo, prob in suite.Values.items():\n",
    "        total += hypo*prob\n",
    "    return total\n",
    "    \n",
    "print(int(BayesMean(suite)))"
   ]
  }
 ],
 "metadata": {
  "kernelspec": {
   "display_name": "Python 3 (ipykernel)",
   "language": "python",
   "name": "python3"
  },
  "language_info": {
   "codemirror_mode": {
    "name": "ipython",
    "version": 3
   },
   "file_extension": ".py",
   "mimetype": "text/x-python",
   "name": "python",
   "nbconvert_exporter": "python",
   "pygments_lexer": "ipython3",
   "version": "3.12.4"
  }
 },
 "nbformat": 4,
 "nbformat_minor": 5
}
